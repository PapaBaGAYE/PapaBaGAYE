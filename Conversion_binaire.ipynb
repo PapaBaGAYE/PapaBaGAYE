{
  "nbformat": 4,
  "nbformat_minor": 0,
  "metadata": {
    "colab": {
      "name": "Conversion binaire.ipynb",
      "provenance": [],
      "collapsed_sections": [],
      "authorship_tag": "ABX9TyOzojmkIkUfBWAavlt4ZONv",
      "include_colab_link": true
    },
    "kernelspec": {
      "name": "python3",
      "display_name": "Python 3"
    },
    "language_info": {
      "name": "python"
    }
  },
  "cells": [
    {
      "cell_type": "markdown",
      "metadata": {
        "id": "view-in-github",
        "colab_type": "text"
      },
      "source": [
        "<a href=\"https://colab.research.google.com/github/PapaBaGAYE/PapaBaGAYE/blob/main/Conversion_binaire.ipynb\" target=\"_parent\"><img src=\"https://colab.research.google.com/assets/colab-badge.svg\" alt=\"Open In Colab\"/></a>"
      ]
    },
    {
      "cell_type": "code",
      "metadata": {
        "colab": {
          "base_uri": "https://localhost:8080/"
        },
        "id": "9El-iTJOjZxn",
        "outputId": "21eaf61d-edaf-4954-a07c-329d7df98d50"
      },
      "source": [
        "from math import *\n",
        "\n",
        "def bin():\n",
        "  n = int(input(\"Entrer n : \"))\n",
        "  while n < 0:\n",
        "      n = int(input(\"Entrer n : \"))\n",
        "  num = n\n",
        "  i = 0\n",
        "  code = ''\n",
        "  while (n > 0):\n",
        "      i+=1\n",
        "      mdo = n % 2\n",
        "      n = n // 2\n",
        "      if mdo == 1:\n",
        "          code = \"1\" + code\n",
        "      else:\n",
        "          code = \"0\" + code\n",
        "\n",
        "  print(f\"{num} = {code} \\nNombre d'octets = {i}\")\n",
        "\n",
        "print('===========Programme Lancé===========')\n",
        "bin()\n"
      ],
      "execution_count": 15,
      "outputs": [
        {
          "output_type": "stream",
          "text": [
            "===========Programme Lancé===========\n",
            "Entrer n : 192\n",
            "192 = 11000000 \n",
            "Nombre d'octets = 8\n",
            "Entrer n : 168\n",
            "168 = 10101000 \n",
            "Nombre d'octets = 8\n",
            "Entrer n : 1\n",
            "1 = 1 \n",
            "Nombre d'octets = 1\n",
            "Entrer n : 1\n",
            "1 = 1 \n",
            "Nombre d'octets = 1\n"
          ],
          "name": "stdout"
        }
      ]
    }
  ]
}